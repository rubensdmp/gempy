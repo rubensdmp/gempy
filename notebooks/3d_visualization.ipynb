{
 "cells": [
  {
   "cell_type": "markdown",
   "metadata": {},
   "source": [
    "# Interactive 3-D Visualization"
   ]
  },
  {
   "cell_type": "code",
   "execution_count": 1,
   "metadata": {},
   "outputs": [
    {
     "name": "stderr",
     "output_type": "stream",
     "text": [
      "WARNING (theano.configdefaults): g++ not available, if using conda: `conda install m2w64-toolchain`\n",
      "C:\\Users\\HP\\anaconda3\\lib\\site-packages\\theano\\configdefaults.py:560: UserWarning: DeprecationWarning: there is no c++ compiler.This is deprecated and with Theano 0.11 a c++ compiler will be mandatory\n",
      "  warnings.warn(\"DeprecationWarning: there is no c++ compiler.\"\n",
      "WARNING (theano.configdefaults): g++ not detected ! Theano will be unable to execute optimized C-implementations (for both CPU and GPU) and will default to Python implementations. Performance will be severely degraded. To remove this warning, set Theano flags cxx to an empty string.\n",
      "WARNING (theano.tensor.blas): Using NumPy C-API based implementation for BLAS functions.\n"
     ]
    }
   ],
   "source": [
    "# Importing GemPy\n",
    "import gempy as gp\n",
    "\n",
    "# Embedding matplotlib figures in the notebooks\n",
    "%matplotlib inline\n",
    "\n",
    "# Importing auxiliary libraries\n",
    "import numpy as np\n",
    "import matplotlib.pyplot as plt"
   ]
  },
  {
   "cell_type": "markdown",
   "metadata": {},
   "source": [
    "## Loading an example geomodel"
   ]
  },
  {
   "cell_type": "code",
   "execution_count": 2,
   "metadata": {},
   "outputs": [
    {
     "name": "stdout",
     "output_type": "stream",
     "text": [
      "Active grids: ['regular']\n"
     ]
    },
    {
     "name": "stderr",
     "output_type": "stream",
     "text": [
      "C:\\Users\\HP\\anaconda3\\lib\\site-packages\\gempy\\core\\data_modules\\geometric_data.py:537: UserWarning: If pole_vector and orientation are passed pole_vector is used/\n",
      "  warnings.warn('If pole_vector and orientation are passed pole_vector is used/')\n"
     ]
    },
    {
     "name": "stdout",
     "output_type": "stream",
     "text": [
      "Fault colors changed. If you do not like this behavior, set change_color to False.\n",
      "[1280. 1600.]\n",
      "Active grids: ['regular' 'topography']\n",
      "Setting kriging parameters to their default values.\n",
      "Compiling theano function...\n",
      "Level of Optimization:  fast_compile\n",
      "Device:  cpu\n",
      "Precision:  float64\n",
      "Number of faults:  2\n",
      "Compilation Done!\n",
      "Kriging values: \n",
      "                         values\n",
      "range              3249.615362\n",
      "$C_o$            251428.571429\n",
      "drift equations   [3, 3, 3, 3]\n"
     ]
    },
    {
     "name": "stderr",
     "output_type": "stream",
     "text": [
      "C:\\Users\\HP\\anaconda3\\lib\\site-packages\\gempy\\core\\solution.py:174: VisibleDeprecationWarning: Creating an ndarray from ragged nested sequences (which is a list-or-tuple of lists-or-tuples-or ndarrays with different lengths or shapes) is deprecated. If you meant to do this, you must specify 'dtype=object' when creating the ndarray.\n",
      "  self.geological_map = np.array(\n"
     ]
    },
    {
     "data": {
      "text/plain": [
       "\n",
       "Lithology ids \n",
       "  [9. 9. 9. ... 3. 3. 3.] "
      ]
     },
     "execution_count": 2,
     "metadata": {},
     "output_type": "execute_result"
    }
   ],
   "source": [
    "data_path = 'https://raw.githubusercontent.com/cgre-aachen/gempy_data/master/'\n",
    "\n",
    "geo_model = gp.create_data('viz_3d',\n",
    "                           [0, 2000, 0, 2000, 0, 1600],\n",
    "                           [50, 50, 50],\n",
    "                           path_o=data_path + \"data/input_data/lisa_models/foliations\" + str(7) + \".csv\",\n",
    "                           path_i=data_path + \"data/input_data/lisa_models/interfaces\" + str(7) + \".csv\"\n",
    "                           )\n",
    "\n",
    "gp.map_stack_to_surfaces(\n",
    "    geo_model,\n",
    "    {\"Fault_1\": 'Fault_1', \"Fault_2\": 'Fault_2',\n",
    "     \"Strat_Series\": ('Sandstone', 'Siltstone', 'Shale', 'Sandstone_2', 'Schist', 'Gneiss')}\n",
    ")\n",
    "\n",
    "geo_model.set_is_fault(['Fault_1', 'Fault_2'])\n",
    "geo_model.set_topography()\n",
    "\n",
    "gp.set_interpolator(geo_model)\n",
    "gp.compute_model(geo_model, compute_mesh=True)"
   ]
  },
  {
   "cell_type": "markdown",
   "metadata": {},
   "source": [
    "## Basic plotting API"
   ]
  },
  {
   "cell_type": "markdown",
   "metadata": {},
   "source": [
    "### Data plot"
   ]
  },
  {
   "cell_type": "code",
   "execution_count": 3,
   "metadata": {},
   "outputs": [
    {
     "name": "stderr",
     "output_type": "stream",
     "text": [
      "C:\\Users\\HP\\anaconda3\\lib\\site-packages\\pyvista\\plotting\\plotting.py:1354: PyvistaDeprecationWarning: \n",
      "\"stitle\" is a depreciated keyword and will be removed in a future\n",
      "release.\n",
      "\n",
      "Use ``scalar_bar_args`` instead.  For example:\n",
      "\n",
      "scalar_bar_args={'title': 'Scalar Bar Title'}\n",
      "\n",
      "  warnings.warn(USE_SCALAR_BAR_ARGS, PyvistaDeprecationWarning)\n"
     ]
    },
    {
     "data": {
      "application/vnd.jupyter.widget-view+json": {
       "model_id": "6a6b714d7f464936ae6a5770629a16f5",
       "version_major": 2,
       "version_minor": 0
      },
      "text/plain": [
       "ViewInteractiveWidget(height=768, layout=Layout(height='auto', width='100%'), width=1024)"
      ]
     },
     "metadata": {},
     "output_type": "display_data"
    },
    {
     "data": {
      "text/plain": [
       "<gempy.plot.vista.GemPyToVista at 0x21d66668f10>"
      ]
     },
     "execution_count": 3,
     "metadata": {},
     "output_type": "execute_result"
    }
   ],
   "source": [
    "gp.plot_3d(geo_model, show_surfaces=False, notebook=True)"
   ]
  },
  {
   "cell_type": "markdown",
   "metadata": {},
   "source": [
    "### Geomodel plot"
   ]
  },
  {
   "cell_type": "code",
   "execution_count": 4,
   "metadata": {},
   "outputs": [
    {
     "data": {
      "application/vnd.jupyter.widget-view+json": {
       "model_id": "1b9921dde9374f40af7722872fefde01",
       "version_major": 2,
       "version_minor": 0
      },
      "text/plain": [
       "ViewInteractiveWidget(height=768, layout=Layout(height='auto', width='100%'), width=1024)"
      ]
     },
     "metadata": {},
     "output_type": "display_data"
    },
    {
     "data": {
      "text/plain": [
       "<gempy.plot.vista.GemPyToVista at 0x21d6667e160>"
      ]
     },
     "execution_count": 4,
     "metadata": {},
     "output_type": "execute_result"
    }
   ],
   "source": [
    "gp.plot_3d(geo_model, notebook=True)"
   ]
  },
  {
   "cell_type": "markdown",
   "metadata": {},
   "source": [
    "### Interactive plot\n",
    "\n",
    "Passing the `notebook=False` keyword argument will run the pyvista visualization in an external window, allowing for interactivity:"
   ]
  },
  {
   "cell_type": "code",
   "execution_count": 5,
   "metadata": {
    "tags": [
     "nbval-ignore"
    ]
   },
   "outputs": [
    {
     "data": {
      "text/plain": [
       "<gempy.plot.vista.GemPyToVista at 0x21d698cbd30>"
      ]
     },
     "execution_count": 5,
     "metadata": {},
     "output_type": "execute_result"
    }
   ],
   "source": [
    "gp.plot_3d(geo_model, notebook=False)"
   ]
  },
  {
   "cell_type": "markdown",
   "metadata": {},
   "source": [
    "## Granular 3-D Visualization"
   ]
  },
  {
   "cell_type": "markdown",
   "metadata": {},
   "source": [
    "### Plotting surfaces"
   ]
  },
  {
   "cell_type": "code",
   "execution_count": 6,
   "metadata": {},
   "outputs": [
    {
     "data": {
      "text/html": [
       "<style type=\"text/css\">\n",
       "#T_8cf3b_row0_col3, #T_8cf3b_row1_col3 {\n",
       "  background-color: #527682;\n",
       "}\n",
       "#T_8cf3b_row2_col3 {\n",
       "  background-color: #4878d0;\n",
       "}\n",
       "#T_8cf3b_row3_col3 {\n",
       "  background-color: #5DA629;\n",
       "}\n",
       "#T_8cf3b_row4_col3 {\n",
       "  background-color: #ff3f20;\n",
       "}\n",
       "#T_8cf3b_row5_col3 {\n",
       "  background-color: #443988;\n",
       "}\n",
       "#T_8cf3b_row6_col3 {\n",
       "  background-color: #728f02;\n",
       "}\n",
       "#T_8cf3b_row7_col3 {\n",
       "  background-color: #ffbe00;\n",
       "}\n",
       "#T_8cf3b_row8_col3 {\n",
       "  background-color: #ee854a;\n",
       "}\n",
       "</style>\n",
       "<table id=\"T_8cf3b_\">\n",
       "  <thead>\n",
       "    <tr>\n",
       "      <th class=\"blank level0\" >&nbsp;</th>\n",
       "      <th class=\"col_heading level0 col0\" >surface</th>\n",
       "      <th class=\"col_heading level0 col1\" >series</th>\n",
       "      <th class=\"col_heading level0 col2\" >order_surfaces</th>\n",
       "      <th class=\"col_heading level0 col3\" >color</th>\n",
       "      <th class=\"col_heading level0 col4\" >id</th>\n",
       "    </tr>\n",
       "  </thead>\n",
       "  <tbody>\n",
       "    <tr>\n",
       "      <th id=\"T_8cf3b_level0_row0\" class=\"row_heading level0 row0\" >0</th>\n",
       "      <td id=\"T_8cf3b_row0_col0\" class=\"data row0 col0\" >Fault_1</td>\n",
       "      <td id=\"T_8cf3b_row0_col1\" class=\"data row0 col1\" >Fault_1</td>\n",
       "      <td id=\"T_8cf3b_row0_col2\" class=\"data row0 col2\" >1</td>\n",
       "      <td id=\"T_8cf3b_row0_col3\" class=\"data row0 col3\" >#527682</td>\n",
       "      <td id=\"T_8cf3b_row0_col4\" class=\"data row0 col4\" >1</td>\n",
       "    </tr>\n",
       "    <tr>\n",
       "      <th id=\"T_8cf3b_level0_row1\" class=\"row_heading level0 row1\" >1</th>\n",
       "      <td id=\"T_8cf3b_row1_col0\" class=\"data row1 col0\" >Fault_2</td>\n",
       "      <td id=\"T_8cf3b_row1_col1\" class=\"data row1 col1\" >Fault_2</td>\n",
       "      <td id=\"T_8cf3b_row1_col2\" class=\"data row1 col2\" >1</td>\n",
       "      <td id=\"T_8cf3b_row1_col3\" class=\"data row1 col3\" >#527682</td>\n",
       "      <td id=\"T_8cf3b_row1_col4\" class=\"data row1 col4\" >2</td>\n",
       "    </tr>\n",
       "    <tr>\n",
       "      <th id=\"T_8cf3b_level0_row2\" class=\"row_heading level0 row2\" >7</th>\n",
       "      <td id=\"T_8cf3b_row2_col0\" class=\"data row2 col0\" >Sandstone</td>\n",
       "      <td id=\"T_8cf3b_row2_col1\" class=\"data row2 col1\" >Strat_Series</td>\n",
       "      <td id=\"T_8cf3b_row2_col2\" class=\"data row2 col2\" >1</td>\n",
       "      <td id=\"T_8cf3b_row2_col3\" class=\"data row2 col3\" >#4878d0</td>\n",
       "      <td id=\"T_8cf3b_row2_col4\" class=\"data row2 col4\" >3</td>\n",
       "    </tr>\n",
       "    <tr>\n",
       "      <th id=\"T_8cf3b_level0_row3\" class=\"row_heading level0 row3\" >6</th>\n",
       "      <td id=\"T_8cf3b_row3_col0\" class=\"data row3 col0\" >Siltstone</td>\n",
       "      <td id=\"T_8cf3b_row3_col1\" class=\"data row3 col1\" >Strat_Series</td>\n",
       "      <td id=\"T_8cf3b_row3_col2\" class=\"data row3 col2\" >2</td>\n",
       "      <td id=\"T_8cf3b_row3_col3\" class=\"data row3 col3\" >#5DA629</td>\n",
       "      <td id=\"T_8cf3b_row3_col4\" class=\"data row3 col4\" >4</td>\n",
       "    </tr>\n",
       "    <tr>\n",
       "      <th id=\"T_8cf3b_level0_row4\" class=\"row_heading level0 row4\" >5</th>\n",
       "      <td id=\"T_8cf3b_row4_col0\" class=\"data row4 col0\" >Shale</td>\n",
       "      <td id=\"T_8cf3b_row4_col1\" class=\"data row4 col1\" >Strat_Series</td>\n",
       "      <td id=\"T_8cf3b_row4_col2\" class=\"data row4 col2\" >3</td>\n",
       "      <td id=\"T_8cf3b_row4_col3\" class=\"data row4 col3\" >#ff3f20</td>\n",
       "      <td id=\"T_8cf3b_row4_col4\" class=\"data row4 col4\" >5</td>\n",
       "    </tr>\n",
       "    <tr>\n",
       "      <th id=\"T_8cf3b_level0_row5\" class=\"row_heading level0 row5\" >4</th>\n",
       "      <td id=\"T_8cf3b_row5_col0\" class=\"data row5 col0\" >Sandstone_2</td>\n",
       "      <td id=\"T_8cf3b_row5_col1\" class=\"data row5 col1\" >Strat_Series</td>\n",
       "      <td id=\"T_8cf3b_row5_col2\" class=\"data row5 col2\" >4</td>\n",
       "      <td id=\"T_8cf3b_row5_col3\" class=\"data row5 col3\" >#443988</td>\n",
       "      <td id=\"T_8cf3b_row5_col4\" class=\"data row5 col4\" >6</td>\n",
       "    </tr>\n",
       "    <tr>\n",
       "      <th id=\"T_8cf3b_level0_row6\" class=\"row_heading level0 row6\" >3</th>\n",
       "      <td id=\"T_8cf3b_row6_col0\" class=\"data row6 col0\" >Schist</td>\n",
       "      <td id=\"T_8cf3b_row6_col1\" class=\"data row6 col1\" >Strat_Series</td>\n",
       "      <td id=\"T_8cf3b_row6_col2\" class=\"data row6 col2\" >5</td>\n",
       "      <td id=\"T_8cf3b_row6_col3\" class=\"data row6 col3\" >#728f02</td>\n",
       "      <td id=\"T_8cf3b_row6_col4\" class=\"data row6 col4\" >7</td>\n",
       "    </tr>\n",
       "    <tr>\n",
       "      <th id=\"T_8cf3b_level0_row7\" class=\"row_heading level0 row7\" >2</th>\n",
       "      <td id=\"T_8cf3b_row7_col0\" class=\"data row7 col0\" >Gneiss</td>\n",
       "      <td id=\"T_8cf3b_row7_col1\" class=\"data row7 col1\" >Strat_Series</td>\n",
       "      <td id=\"T_8cf3b_row7_col2\" class=\"data row7 col2\" >6</td>\n",
       "      <td id=\"T_8cf3b_row7_col3\" class=\"data row7 col3\" >#ffbe00</td>\n",
       "      <td id=\"T_8cf3b_row7_col4\" class=\"data row7 col4\" >8</td>\n",
       "    </tr>\n",
       "    <tr>\n",
       "      <th id=\"T_8cf3b_level0_row8\" class=\"row_heading level0 row8\" >8</th>\n",
       "      <td id=\"T_8cf3b_row8_col0\" class=\"data row8 col0\" >basement</td>\n",
       "      <td id=\"T_8cf3b_row8_col1\" class=\"data row8 col1\" >Basement</td>\n",
       "      <td id=\"T_8cf3b_row8_col2\" class=\"data row8 col2\" >1</td>\n",
       "      <td id=\"T_8cf3b_row8_col3\" class=\"data row8 col3\" >#ee854a</td>\n",
       "      <td id=\"T_8cf3b_row8_col4\" class=\"data row8 col4\" >9</td>\n",
       "    </tr>\n",
       "  </tbody>\n",
       "</table>\n"
      ],
      "text/plain": [
       "       surface        series  order_surfaces    color  id\n",
       "0      Fault_1       Fault_1               1  #527682   1\n",
       "1      Fault_2       Fault_2               1  #527682   2\n",
       "7    Sandstone  Strat_Series               1  #4878d0   3\n",
       "6    Siltstone  Strat_Series               2  #5DA629   4\n",
       "5        Shale  Strat_Series               3  #ff3f20   5\n",
       "4  Sandstone_2  Strat_Series               4  #443988   6\n",
       "3       Schist  Strat_Series               5  #728f02   7\n",
       "2       Gneiss  Strat_Series               6  #ffbe00   8\n",
       "8     basement      Basement               1  #ee854a   9"
      ]
     },
     "execution_count": 6,
     "metadata": {},
     "output_type": "execute_result"
    }
   ],
   "source": [
    "geo_model.surfaces"
   ]
  },
  {
   "cell_type": "code",
   "execution_count": 10,
   "metadata": {},
   "outputs": [],
   "source": [
    "gpv = gp.plot_3d(geo_model, show_data=False, show_results=False, plotter_type='background')"
   ]
  },
  {
   "cell_type": "code",
   "execution_count": null,
   "metadata": {},
   "outputs": [],
   "source": [
    "# Plotting all surfaces...\n",
    "gpv.plot_surfaces()"
   ]
  },
  {
   "cell_type": "code",
   "execution_count": null,
   "metadata": {},
   "outputs": [],
   "source": [
    "# ... masked by topography\n",
    "gpv.plot_topography()"
   ]
  },
  {
   "cell_type": "code",
   "execution_count": null,
   "metadata": {},
   "outputs": [],
   "source": [
    "# Just few surfaces\n",
    "gpv.plot_surfaces(['Siltstone', 'Gneiss'])"
   ]
  },
  {
   "cell_type": "markdown",
   "metadata": {},
   "source": [
    "### Plotting individual surfaces"
   ]
  },
  {
   "cell_type": "code",
   "execution_count": null,
   "metadata": {},
   "outputs": [],
   "source": [
    "gpv.plot_surfaces([\"Fault_1\"])\n",
    "gpv.plot_surfaces([\"Shale\"], clear=False)"
   ]
  },
  {
   "cell_type": "markdown",
   "metadata": {},
   "source": [
    "### Plotting input data"
   ]
  },
  {
   "cell_type": "code",
   "execution_count": null,
   "metadata": {},
   "outputs": [],
   "source": [
    "gpv.plot_surface_points()\n",
    "gpv.plot_orientations()"
   ]
  },
  {
   "cell_type": "code",
   "execution_count": null,
   "metadata": {},
   "outputs": [],
   "source": [
    "mesh = gpv.surface_points_mesh\n",
    "mesh"
   ]
  },
  {
   "cell_type": "code",
   "execution_count": null,
   "metadata": {},
   "outputs": [],
   "source": [
    "mesh.points[:, -1]"
   ]
  },
  {
   "cell_type": "code",
   "execution_count": null,
   "metadata": {},
   "outputs": [],
   "source": [
    "mesh.n_arrays"
   ]
  },
  {
   "cell_type": "markdown",
   "metadata": {},
   "source": [
    "### Plot structured grids"
   ]
  },
  {
   "cell_type": "code",
   "execution_count": null,
   "metadata": {},
   "outputs": [],
   "source": [
    "gpv.plot_structured_grid(\"scalar\", series = 'Strat_Series')"
   ]
  },
  {
   "cell_type": "markdown",
   "metadata": {},
   "source": [
    "### Interactive Block with cross sections"
   ]
  },
  {
   "cell_type": "code",
   "execution_count": null,
   "metadata": {},
   "outputs": [],
   "source": [
    "gp.plot.plot_interactive_3d(geo_model, show_topography=True)"
   ]
  },
  {
   "cell_type": "markdown",
   "metadata": {},
   "source": [
    "## Interactive Plotting: Drag and drop\n",
    "\n",
    "GemPy supports interactive plotting, meaning that you can drag & drop the input data and GemPy will update the geomodel live. This does not work in the static notebook plotter, but instead you have to pass the `notebook=False` argument to open an interactive plotting window. When running the next cell you can freely move the surface points (spheres) and orientations (arrows) of the Shale horizon and see how it updates the model. \n",
    "\n",
    "**Note**: Everytime you move a data point, GemPy will recompute the geomodel. This works best whe running GemPy on a dedicated graphics card (GPU). "
   ]
  },
  {
   "cell_type": "code",
   "execution_count": null,
   "metadata": {},
   "outputs": [],
   "source": [
    "gpv = gp.plot_3d(geo_model, show_data=False, show_results=False, plotter_type='background')\n",
    "gpv.plot_surface_points()\n",
    "gpv.plot_orientations()\n",
    "gpv.plot_surfaces()"
   ]
  },
  {
   "cell_type": "code",
   "execution_count": null,
   "metadata": {},
   "outputs": [],
   "source": [
    "gpv.toggle_live_updating()"
   ]
  },
  {
   "cell_type": "markdown",
   "metadata": {},
   "source": [
    "Now if you move the data the model updates!\n",
    "\n",
    "To go back to static models:"
   ]
  },
  {
   "cell_type": "code",
   "execution_count": null,
   "metadata": {},
   "outputs": [],
   "source": [
    "gpv.toggle_live_updating()"
   ]
  },
  {
   "cell_type": "markdown",
   "metadata": {},
   "source": [
    "## Interactive Plotting: Programatically\n",
    "\n",
    "If the model is in live_updating model. It is also possible to change the model by passing the plotting object to the typical methods:"
   ]
  },
  {
   "cell_type": "code",
   "execution_count": null,
   "metadata": {},
   "outputs": [],
   "source": [
    "gpv.live_updating = True\n",
    "gpv.plot_surface_points()\n",
    "gpv.plot_orientations()"
   ]
  },
  {
   "cell_type": "code",
   "execution_count": null,
   "metadata": {},
   "outputs": [],
   "source": [
    "geo_model.modify_surface_points(0, X=-100, plot_object=gpv)"
   ]
  },
  {
   "cell_type": "code",
   "execution_count": null,
   "metadata": {},
   "outputs": [],
   "source": [
    "geo_model.add_surface_points(-200, 1500, 600, 'Schist', plot_object=gpv)"
   ]
  },
  {
   "cell_type": "code",
   "execution_count": null,
   "metadata": {},
   "outputs": [],
   "source": [
    "geo_model.delete_surface_points(22, plot_object=gpv)"
   ]
  }
 ],
 "metadata": {
  "celltoolbar": "Tags",
  "jupytext": {
   "split_at_heading": true
  },
  "kernelspec": {
   "display_name": "Python 3",
   "language": "python",
   "name": "python3"
  },
  "language_info": {
   "codemirror_mode": {
    "name": "ipython",
    "version": 3
   },
   "file_extension": ".py",
   "mimetype": "text/x-python",
   "name": "python",
   "nbconvert_exporter": "python",
   "pygments_lexer": "ipython3",
   "version": "3.8.8"
  }
 },
 "nbformat": 4,
 "nbformat_minor": 4
}
